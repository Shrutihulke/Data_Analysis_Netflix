{
  "nbformat": 4,
  "nbformat_minor": 0,
  "metadata": {
    "colab": {
      "provenance": []
    },
    "kernelspec": {
      "name": "python3",
      "display_name": "Python 3"
    },
    "language_info": {
      "name": "python"
    }
  },
  "cells": [
    {
      "cell_type": "code",
      "execution_count": 1,
      "metadata": {
        "id": "tJ7SU6rheVnC"
      },
      "outputs": [],
      "source": [
        "import pandas as pd\n"
      ]
    },
    {
      "cell_type": "code",
      "source": [
        "df = pd.read_csv(\"/content/netflix_titles.csv\")"
      ],
      "metadata": {
        "id": "bgJrHYkYe6Z8"
      },
      "execution_count": 2,
      "outputs": []
    },
    {
      "cell_type": "code",
      "source": [
        "df.head()"
      ],
      "metadata": {
        "colab": {
          "base_uri": "https://localhost:8080/",
          "height": 397
        },
        "id": "gjGCPSJzfC-Y",
        "outputId": "9b753df9-f9a9-4073-e487-94efd5a077dd"
      },
      "execution_count": 3,
      "outputs": [
        {
          "output_type": "execute_result",
          "data": {
            "text/plain": [
              "  show_id     type                  title         director  \\\n",
              "0      s1    Movie   Dick Johnson Is Dead  Kirsten Johnson   \n",
              "1      s2  TV Show          Blood & Water              NaN   \n",
              "2      s3  TV Show              Ganglands  Julien Leclercq   \n",
              "3      s4  TV Show  Jailbirds New Orleans              NaN   \n",
              "4      s5  TV Show           Kota Factory              NaN   \n",
              "\n",
              "                                                cast        country  \\\n",
              "0                                                NaN  United States   \n",
              "1  Ama Qamata, Khosi Ngema, Gail Mabalane, Thaban...   South Africa   \n",
              "2  Sami Bouajila, Tracy Gotoas, Samuel Jouy, Nabi...            NaN   \n",
              "3                                                NaN            NaN   \n",
              "4  Mayur More, Jitendra Kumar, Ranjan Raj, Alam K...          India   \n",
              "\n",
              "           date_added  release_year rating   duration  \\\n",
              "0  September 25, 2021          2020  PG-13     90 min   \n",
              "1  September 24, 2021          2021  TV-MA  2 Seasons   \n",
              "2  September 24, 2021          2021  TV-MA   1 Season   \n",
              "3  September 24, 2021          2021  TV-MA   1 Season   \n",
              "4  September 24, 2021          2021  TV-MA  2 Seasons   \n",
              "\n",
              "                                           listed_in  \\\n",
              "0                                      Documentaries   \n",
              "1    International TV Shows, TV Dramas, TV Mysteries   \n",
              "2  Crime TV Shows, International TV Shows, TV Act...   \n",
              "3                             Docuseries, Reality TV   \n",
              "4  International TV Shows, Romantic TV Shows, TV ...   \n",
              "\n",
              "                                         description  \n",
              "0  As her father nears the end of his life, filmm...  \n",
              "1  After crossing paths at a party, a Cape Town t...  \n",
              "2  To protect his family from a powerful drug lor...  \n",
              "3  Feuds, flirtations and toilet talk go down amo...  \n",
              "4  In a city of coaching centers known to train I...  "
            ],
            "text/html": [
              "\n",
              "  <div id=\"df-3c6298f8-93cf-463f-b372-02a77a1d9d74\" class=\"colab-df-container\">\n",
              "    <div>\n",
              "<style scoped>\n",
              "    .dataframe tbody tr th:only-of-type {\n",
              "        vertical-align: middle;\n",
              "    }\n",
              "\n",
              "    .dataframe tbody tr th {\n",
              "        vertical-align: top;\n",
              "    }\n",
              "\n",
              "    .dataframe thead th {\n",
              "        text-align: right;\n",
              "    }\n",
              "</style>\n",
              "<table border=\"1\" class=\"dataframe\">\n",
              "  <thead>\n",
              "    <tr style=\"text-align: right;\">\n",
              "      <th></th>\n",
              "      <th>show_id</th>\n",
              "      <th>type</th>\n",
              "      <th>title</th>\n",
              "      <th>director</th>\n",
              "      <th>cast</th>\n",
              "      <th>country</th>\n",
              "      <th>date_added</th>\n",
              "      <th>release_year</th>\n",
              "      <th>rating</th>\n",
              "      <th>duration</th>\n",
              "      <th>listed_in</th>\n",
              "      <th>description</th>\n",
              "    </tr>\n",
              "  </thead>\n",
              "  <tbody>\n",
              "    <tr>\n",
              "      <th>0</th>\n",
              "      <td>s1</td>\n",
              "      <td>Movie</td>\n",
              "      <td>Dick Johnson Is Dead</td>\n",
              "      <td>Kirsten Johnson</td>\n",
              "      <td>NaN</td>\n",
              "      <td>United States</td>\n",
              "      <td>September 25, 2021</td>\n",
              "      <td>2020</td>\n",
              "      <td>PG-13</td>\n",
              "      <td>90 min</td>\n",
              "      <td>Documentaries</td>\n",
              "      <td>As her father nears the end of his life, filmm...</td>\n",
              "    </tr>\n",
              "    <tr>\n",
              "      <th>1</th>\n",
              "      <td>s2</td>\n",
              "      <td>TV Show</td>\n",
              "      <td>Blood &amp; Water</td>\n",
              "      <td>NaN</td>\n",
              "      <td>Ama Qamata, Khosi Ngema, Gail Mabalane, Thaban...</td>\n",
              "      <td>South Africa</td>\n",
              "      <td>September 24, 2021</td>\n",
              "      <td>2021</td>\n",
              "      <td>TV-MA</td>\n",
              "      <td>2 Seasons</td>\n",
              "      <td>International TV Shows, TV Dramas, TV Mysteries</td>\n",
              "      <td>After crossing paths at a party, a Cape Town t...</td>\n",
              "    </tr>\n",
              "    <tr>\n",
              "      <th>2</th>\n",
              "      <td>s3</td>\n",
              "      <td>TV Show</td>\n",
              "      <td>Ganglands</td>\n",
              "      <td>Julien Leclercq</td>\n",
              "      <td>Sami Bouajila, Tracy Gotoas, Samuel Jouy, Nabi...</td>\n",
              "      <td>NaN</td>\n",
              "      <td>September 24, 2021</td>\n",
              "      <td>2021</td>\n",
              "      <td>TV-MA</td>\n",
              "      <td>1 Season</td>\n",
              "      <td>Crime TV Shows, International TV Shows, TV Act...</td>\n",
              "      <td>To protect his family from a powerful drug lor...</td>\n",
              "    </tr>\n",
              "    <tr>\n",
              "      <th>3</th>\n",
              "      <td>s4</td>\n",
              "      <td>TV Show</td>\n",
              "      <td>Jailbirds New Orleans</td>\n",
              "      <td>NaN</td>\n",
              "      <td>NaN</td>\n",
              "      <td>NaN</td>\n",
              "      <td>September 24, 2021</td>\n",
              "      <td>2021</td>\n",
              "      <td>TV-MA</td>\n",
              "      <td>1 Season</td>\n",
              "      <td>Docuseries, Reality TV</td>\n",
              "      <td>Feuds, flirtations and toilet talk go down amo...</td>\n",
              "    </tr>\n",
              "    <tr>\n",
              "      <th>4</th>\n",
              "      <td>s5</td>\n",
              "      <td>TV Show</td>\n",
              "      <td>Kota Factory</td>\n",
              "      <td>NaN</td>\n",
              "      <td>Mayur More, Jitendra Kumar, Ranjan Raj, Alam K...</td>\n",
              "      <td>India</td>\n",
              "      <td>September 24, 2021</td>\n",
              "      <td>2021</td>\n",
              "      <td>TV-MA</td>\n",
              "      <td>2 Seasons</td>\n",
              "      <td>International TV Shows, Romantic TV Shows, TV ...</td>\n",
              "      <td>In a city of coaching centers known to train I...</td>\n",
              "    </tr>\n",
              "  </tbody>\n",
              "</table>\n",
              "</div>\n",
              "    <div class=\"colab-df-buttons\">\n",
              "\n",
              "  <div class=\"colab-df-container\">\n",
              "    <button class=\"colab-df-convert\" onclick=\"convertToInteractive('df-3c6298f8-93cf-463f-b372-02a77a1d9d74')\"\n",
              "            title=\"Convert this dataframe to an interactive table.\"\n",
              "            style=\"display:none;\">\n",
              "\n",
              "  <svg xmlns=\"http://www.w3.org/2000/svg\" height=\"24px\" viewBox=\"0 -960 960 960\">\n",
              "    <path d=\"M120-120v-720h720v720H120Zm60-500h600v-160H180v160Zm220 220h160v-160H400v160Zm0 220h160v-160H400v160ZM180-400h160v-160H180v160Zm440 0h160v-160H620v160ZM180-180h160v-160H180v160Zm440 0h160v-160H620v160Z\"/>\n",
              "  </svg>\n",
              "    </button>\n",
              "\n",
              "  <style>\n",
              "    .colab-df-container {\n",
              "      display:flex;\n",
              "      gap: 12px;\n",
              "    }\n",
              "\n",
              "    .colab-df-convert {\n",
              "      background-color: #E8F0FE;\n",
              "      border: none;\n",
              "      border-radius: 50%;\n",
              "      cursor: pointer;\n",
              "      display: none;\n",
              "      fill: #1967D2;\n",
              "      height: 32px;\n",
              "      padding: 0 0 0 0;\n",
              "      width: 32px;\n",
              "    }\n",
              "\n",
              "    .colab-df-convert:hover {\n",
              "      background-color: #E2EBFA;\n",
              "      box-shadow: 0px 1px 2px rgba(60, 64, 67, 0.3), 0px 1px 3px 1px rgba(60, 64, 67, 0.15);\n",
              "      fill: #174EA6;\n",
              "    }\n",
              "\n",
              "    .colab-df-buttons div {\n",
              "      margin-bottom: 4px;\n",
              "    }\n",
              "\n",
              "    [theme=dark] .colab-df-convert {\n",
              "      background-color: #3B4455;\n",
              "      fill: #D2E3FC;\n",
              "    }\n",
              "\n",
              "    [theme=dark] .colab-df-convert:hover {\n",
              "      background-color: #434B5C;\n",
              "      box-shadow: 0px 1px 3px 1px rgba(0, 0, 0, 0.15);\n",
              "      filter: drop-shadow(0px 1px 2px rgba(0, 0, 0, 0.3));\n",
              "      fill: #FFFFFF;\n",
              "    }\n",
              "  </style>\n",
              "\n",
              "    <script>\n",
              "      const buttonEl =\n",
              "        document.querySelector('#df-3c6298f8-93cf-463f-b372-02a77a1d9d74 button.colab-df-convert');\n",
              "      buttonEl.style.display =\n",
              "        google.colab.kernel.accessAllowed ? 'block' : 'none';\n",
              "\n",
              "      async function convertToInteractive(key) {\n",
              "        const element = document.querySelector('#df-3c6298f8-93cf-463f-b372-02a77a1d9d74');\n",
              "        const dataTable =\n",
              "          await google.colab.kernel.invokeFunction('convertToInteractive',\n",
              "                                                    [key], {});\n",
              "        if (!dataTable) return;\n",
              "\n",
              "        const docLinkHtml = 'Like what you see? Visit the ' +\n",
              "          '<a target=\"_blank\" href=https://colab.research.google.com/notebooks/data_table.ipynb>data table notebook</a>'\n",
              "          + ' to learn more about interactive tables.';\n",
              "        element.innerHTML = '';\n",
              "        dataTable['output_type'] = 'display_data';\n",
              "        await google.colab.output.renderOutput(dataTable, element);\n",
              "        const docLink = document.createElement('div');\n",
              "        docLink.innerHTML = docLinkHtml;\n",
              "        element.appendChild(docLink);\n",
              "      }\n",
              "    </script>\n",
              "  </div>\n",
              "\n",
              "\n",
              "    <div id=\"df-17eaa445-d0b5-4582-989e-54f7a4bdf334\">\n",
              "      <button class=\"colab-df-quickchart\" onclick=\"quickchart('df-17eaa445-d0b5-4582-989e-54f7a4bdf334')\"\n",
              "                title=\"Suggest charts\"\n",
              "                style=\"display:none;\">\n",
              "\n",
              "<svg xmlns=\"http://www.w3.org/2000/svg\" height=\"24px\"viewBox=\"0 0 24 24\"\n",
              "     width=\"24px\">\n",
              "    <g>\n",
              "        <path d=\"M19 3H5c-1.1 0-2 .9-2 2v14c0 1.1.9 2 2 2h14c1.1 0 2-.9 2-2V5c0-1.1-.9-2-2-2zM9 17H7v-7h2v7zm4 0h-2V7h2v10zm4 0h-2v-4h2v4z\"/>\n",
              "    </g>\n",
              "</svg>\n",
              "      </button>\n",
              "\n",
              "<style>\n",
              "  .colab-df-quickchart {\n",
              "      --bg-color: #E8F0FE;\n",
              "      --fill-color: #1967D2;\n",
              "      --hover-bg-color: #E2EBFA;\n",
              "      --hover-fill-color: #174EA6;\n",
              "      --disabled-fill-color: #AAA;\n",
              "      --disabled-bg-color: #DDD;\n",
              "  }\n",
              "\n",
              "  [theme=dark] .colab-df-quickchart {\n",
              "      --bg-color: #3B4455;\n",
              "      --fill-color: #D2E3FC;\n",
              "      --hover-bg-color: #434B5C;\n",
              "      --hover-fill-color: #FFFFFF;\n",
              "      --disabled-bg-color: #3B4455;\n",
              "      --disabled-fill-color: #666;\n",
              "  }\n",
              "\n",
              "  .colab-df-quickchart {\n",
              "    background-color: var(--bg-color);\n",
              "    border: none;\n",
              "    border-radius: 50%;\n",
              "    cursor: pointer;\n",
              "    display: none;\n",
              "    fill: var(--fill-color);\n",
              "    height: 32px;\n",
              "    padding: 0;\n",
              "    width: 32px;\n",
              "  }\n",
              "\n",
              "  .colab-df-quickchart:hover {\n",
              "    background-color: var(--hover-bg-color);\n",
              "    box-shadow: 0 1px 2px rgba(60, 64, 67, 0.3), 0 1px 3px 1px rgba(60, 64, 67, 0.15);\n",
              "    fill: var(--button-hover-fill-color);\n",
              "  }\n",
              "\n",
              "  .colab-df-quickchart-complete:disabled,\n",
              "  .colab-df-quickchart-complete:disabled:hover {\n",
              "    background-color: var(--disabled-bg-color);\n",
              "    fill: var(--disabled-fill-color);\n",
              "    box-shadow: none;\n",
              "  }\n",
              "\n",
              "  .colab-df-spinner {\n",
              "    border: 2px solid var(--fill-color);\n",
              "    border-color: transparent;\n",
              "    border-bottom-color: var(--fill-color);\n",
              "    animation:\n",
              "      spin 1s steps(1) infinite;\n",
              "  }\n",
              "\n",
              "  @keyframes spin {\n",
              "    0% {\n",
              "      border-color: transparent;\n",
              "      border-bottom-color: var(--fill-color);\n",
              "      border-left-color: var(--fill-color);\n",
              "    }\n",
              "    20% {\n",
              "      border-color: transparent;\n",
              "      border-left-color: var(--fill-color);\n",
              "      border-top-color: var(--fill-color);\n",
              "    }\n",
              "    30% {\n",
              "      border-color: transparent;\n",
              "      border-left-color: var(--fill-color);\n",
              "      border-top-color: var(--fill-color);\n",
              "      border-right-color: var(--fill-color);\n",
              "    }\n",
              "    40% {\n",
              "      border-color: transparent;\n",
              "      border-right-color: var(--fill-color);\n",
              "      border-top-color: var(--fill-color);\n",
              "    }\n",
              "    60% {\n",
              "      border-color: transparent;\n",
              "      border-right-color: var(--fill-color);\n",
              "    }\n",
              "    80% {\n",
              "      border-color: transparent;\n",
              "      border-right-color: var(--fill-color);\n",
              "      border-bottom-color: var(--fill-color);\n",
              "    }\n",
              "    90% {\n",
              "      border-color: transparent;\n",
              "      border-bottom-color: var(--fill-color);\n",
              "    }\n",
              "  }\n",
              "</style>\n",
              "\n",
              "      <script>\n",
              "        async function quickchart(key) {\n",
              "          const quickchartButtonEl =\n",
              "            document.querySelector('#' + key + ' button');\n",
              "          quickchartButtonEl.disabled = true;  // To prevent multiple clicks.\n",
              "          quickchartButtonEl.classList.add('colab-df-spinner');\n",
              "          try {\n",
              "            const charts = await google.colab.kernel.invokeFunction(\n",
              "                'suggestCharts', [key], {});\n",
              "          } catch (error) {\n",
              "            console.error('Error during call to suggestCharts:', error);\n",
              "          }\n",
              "          quickchartButtonEl.classList.remove('colab-df-spinner');\n",
              "          quickchartButtonEl.classList.add('colab-df-quickchart-complete');\n",
              "        }\n",
              "        (() => {\n",
              "          let quickchartButtonEl =\n",
              "            document.querySelector('#df-17eaa445-d0b5-4582-989e-54f7a4bdf334 button');\n",
              "          quickchartButtonEl.style.display =\n",
              "            google.colab.kernel.accessAllowed ? 'block' : 'none';\n",
              "        })();\n",
              "      </script>\n",
              "    </div>\n",
              "\n",
              "    </div>\n",
              "  </div>\n"
            ],
            "application/vnd.google.colaboratory.intrinsic+json": {
              "type": "dataframe",
              "variable_name": "df",
              "summary": "{\n  \"name\": \"df\",\n  \"rows\": 8807,\n  \"fields\": [\n    {\n      \"column\": \"show_id\",\n      \"properties\": {\n        \"dtype\": \"string\",\n        \"num_unique_values\": 8807,\n        \"samples\": [\n          \"s4971\",\n          \"s3363\",\n          \"s5495\"\n        ],\n        \"semantic_type\": \"\",\n        \"description\": \"\"\n      }\n    },\n    {\n      \"column\": \"type\",\n      \"properties\": {\n        \"dtype\": \"category\",\n        \"num_unique_values\": 2,\n        \"samples\": [\n          \"TV Show\",\n          \"Movie\"\n        ],\n        \"semantic_type\": \"\",\n        \"description\": \"\"\n      }\n    },\n    {\n      \"column\": \"title\",\n      \"properties\": {\n        \"dtype\": \"string\",\n        \"num_unique_values\": 8807,\n        \"samples\": [\n          \"Game Over, Man!\",\n          \"Arsenio Hall: Smart & Classy\"\n        ],\n        \"semantic_type\": \"\",\n        \"description\": \"\"\n      }\n    },\n    {\n      \"column\": \"director\",\n      \"properties\": {\n        \"dtype\": \"string\",\n        \"num_unique_values\": 4528,\n        \"samples\": [\n          \"Kanwal Sethi\",\n          \"R\\u00e9my Four, Julien War\"\n        ],\n        \"semantic_type\": \"\",\n        \"description\": \"\"\n      }\n    },\n    {\n      \"column\": \"cast\",\n      \"properties\": {\n        \"dtype\": \"string\",\n        \"num_unique_values\": 7692,\n        \"samples\": [\n          \"Tzi Ma, Christine Ko, Hong-Chi Lee, Hayden Szeto, Kunjue Li, Fiona Fu, James Saito, Joan Chen\",\n          \"Priyanshu Painyuli, Chandrachoor Rai, Shadab Kamal, Rajeev Siddhartha, Sheetal Thakur, Ninad Kamat, Swati Semwal, Eijaz Khan\"\n        ],\n        \"semantic_type\": \"\",\n        \"description\": \"\"\n      }\n    },\n    {\n      \"column\": \"country\",\n      \"properties\": {\n        \"dtype\": \"category\",\n        \"num_unique_values\": 748,\n        \"samples\": [\n          \"United States, United Kingdom, Denmark, Sweden\",\n          \"United Kingdom, Hong Kong\"\n        ],\n        \"semantic_type\": \"\",\n        \"description\": \"\"\n      }\n    },\n    {\n      \"column\": \"date_added\",\n      \"properties\": {\n        \"dtype\": \"category\",\n        \"num_unique_values\": 1767,\n        \"samples\": [\n          \"October 22, 2018\",\n          \"January 29, 2021\"\n        ],\n        \"semantic_type\": \"\",\n        \"description\": \"\"\n      }\n    },\n    {\n      \"column\": \"release_year\",\n      \"properties\": {\n        \"dtype\": \"number\",\n        \"std\": 8,\n        \"min\": 1925,\n        \"max\": 2021,\n        \"num_unique_values\": 74,\n        \"samples\": [\n          1996,\n          1969\n        ],\n        \"semantic_type\": \"\",\n        \"description\": \"\"\n      }\n    },\n    {\n      \"column\": \"rating\",\n      \"properties\": {\n        \"dtype\": \"category\",\n        \"num_unique_values\": 17,\n        \"samples\": [\n          \"PG-13\",\n          \"TV-MA\"\n        ],\n        \"semantic_type\": \"\",\n        \"description\": \"\"\n      }\n    },\n    {\n      \"column\": \"duration\",\n      \"properties\": {\n        \"dtype\": \"category\",\n        \"num_unique_values\": 220,\n        \"samples\": [\n          \"37 min\",\n          \"177 min\"\n        ],\n        \"semantic_type\": \"\",\n        \"description\": \"\"\n      }\n    },\n    {\n      \"column\": \"listed_in\",\n      \"properties\": {\n        \"dtype\": \"category\",\n        \"num_unique_values\": 514,\n        \"samples\": [\n          \"Crime TV Shows, International TV Shows, TV Mysteries\",\n          \"Children & Family Movies, Classic Movies, Dramas\"\n        ],\n        \"semantic_type\": \"\",\n        \"description\": \"\"\n      }\n    },\n    {\n      \"column\": \"description\",\n      \"properties\": {\n        \"dtype\": \"string\",\n        \"num_unique_values\": 8775,\n        \"samples\": [\n          \"A heedless teen drifter who falls for a small-town waitress makes the mistake of robbing a drug lord, putting his life and newfound love in jeopardy.\",\n          \"Twelve-year-old Calvin manages to join the navy and serves in the battle of Guadalcanal. But when his age is revealed, the boy is sent to the brig.\"\n        ],\n        \"semantic_type\": \"\",\n        \"description\": \"\"\n      }\n    }\n  ]\n}"
            }
          },
          "metadata": {},
          "execution_count": 3
        }
      ]
    },
    {
      "cell_type": "code",
      "source": [
        "print(df.isnull())"
      ],
      "metadata": {
        "colab": {
          "base_uri": "https://localhost:8080/"
        },
        "id": "X3C1YMeKfXWH",
        "outputId": "7d530eff-e192-4bb9-f4fd-6161ec0b1ccd"
      },
      "execution_count": 4,
      "outputs": [
        {
          "output_type": "stream",
          "name": "stdout",
          "text": [
            "      show_id   type  title  director   cast  country  date_added  \\\n",
            "0       False  False  False     False   True    False       False   \n",
            "1       False  False  False      True  False    False       False   \n",
            "2       False  False  False     False  False     True       False   \n",
            "3       False  False  False      True   True     True       False   \n",
            "4       False  False  False      True  False    False       False   \n",
            "...       ...    ...    ...       ...    ...      ...         ...   \n",
            "8802    False  False  False     False  False    False       False   \n",
            "8803    False  False  False      True   True     True       False   \n",
            "8804    False  False  False     False  False    False       False   \n",
            "8805    False  False  False     False  False    False       False   \n",
            "8806    False  False  False     False  False    False       False   \n",
            "\n",
            "      release_year  rating  duration  listed_in  description  \n",
            "0            False   False     False      False        False  \n",
            "1            False   False     False      False        False  \n",
            "2            False   False     False      False        False  \n",
            "3            False   False     False      False        False  \n",
            "4            False   False     False      False        False  \n",
            "...            ...     ...       ...        ...          ...  \n",
            "8802         False   False     False      False        False  \n",
            "8803         False   False     False      False        False  \n",
            "8804         False   False     False      False        False  \n",
            "8805         False   False     False      False        False  \n",
            "8806         False   False     False      False        False  \n",
            "\n",
            "[8807 rows x 12 columns]\n"
          ]
        }
      ]
    },
    {
      "cell_type": "code",
      "source": [
        "print(df.isnull().sum())"
      ],
      "metadata": {
        "colab": {
          "base_uri": "https://localhost:8080/"
        },
        "id": "nAslWQxjgUk8",
        "outputId": "97e1274a-0445-42f4-d5f6-c5621b4d087e"
      },
      "execution_count": 6,
      "outputs": [
        {
          "output_type": "stream",
          "name": "stdout",
          "text": [
            "show_id            0\n",
            "type               0\n",
            "title              0\n",
            "director        2634\n",
            "cast             825\n",
            "country          831\n",
            "date_added        10\n",
            "release_year       0\n",
            "rating             4\n",
            "duration           3\n",
            "listed_in          0\n",
            "description        0\n",
            "dtype: int64\n"
          ]
        }
      ]
    },
    {
      "cell_type": "code",
      "source": [
        "Drop_df=df.dropna()"
      ],
      "metadata": {
        "id": "vQ8k7kIzgdb_"
      },
      "execution_count": 7,
      "outputs": []
    },
    {
      "cell_type": "code",
      "source": [
        "print(Drop_df)"
      ],
      "metadata": {
        "colab": {
          "base_uri": "https://localhost:8080/"
        },
        "id": "6p-vPI4JgiN6",
        "outputId": "6bd105b0-12bc-4b70-f912-06c2cc95591c"
      },
      "execution_count": 8,
      "outputs": [
        {
          "output_type": "stream",
          "name": "stdout",
          "text": [
            "     show_id     type                          title             director  \\\n",
            "7         s8    Movie                        Sankofa         Haile Gerima   \n",
            "8         s9  TV Show  The Great British Baking Show      Andy Devonshire   \n",
            "9        s10    Movie                   The Starling       Theodore Melfi   \n",
            "12       s13    Movie                   Je Suis Karl  Christian Schwochow   \n",
            "24       s25    Movie                          Jeans           S. Shankar   \n",
            "...      ...      ...                            ...                  ...   \n",
            "8801   s8802    Movie                        Zinzana      Majid Al Ansari   \n",
            "8802   s8803    Movie                         Zodiac        David Fincher   \n",
            "8804   s8805    Movie                     Zombieland      Ruben Fleischer   \n",
            "8805   s8806    Movie                           Zoom         Peter Hewitt   \n",
            "8806   s8807    Movie                         Zubaan          Mozez Singh   \n",
            "\n",
            "                                                   cast  \\\n",
            "7     Kofi Ghanaba, Oyafunmike Ogunlano, Alexandra D...   \n",
            "8     Mel Giedroyc, Sue Perkins, Mary Berry, Paul Ho...   \n",
            "9     Melissa McCarthy, Chris O'Dowd, Kevin Kline, T...   \n",
            "12    Luna Wedler, Jannis Niewöhner, Milan Peschel, ...   \n",
            "24    Prashanth, Aishwarya Rai Bachchan, Sri Lakshmi...   \n",
            "...                                                 ...   \n",
            "8801  Ali Suliman, Saleh Bakri, Yasa, Ali Al-Jabri, ...   \n",
            "8802  Mark Ruffalo, Jake Gyllenhaal, Robert Downey J...   \n",
            "8804  Jesse Eisenberg, Woody Harrelson, Emma Stone, ...   \n",
            "8805  Tim Allen, Courteney Cox, Chevy Chase, Kate Ma...   \n",
            "8806  Vicky Kaushal, Sarah-Jane Dias, Raaghav Chanan...   \n",
            "\n",
            "                                                country          date_added  \\\n",
            "7     United States, Ghana, Burkina Faso, United Kin...  September 24, 2021   \n",
            "8                                        United Kingdom  September 24, 2021   \n",
            "9                                         United States  September 24, 2021   \n",
            "12                              Germany, Czech Republic  September 23, 2021   \n",
            "24                                                India  September 21, 2021   \n",
            "...                                                 ...                 ...   \n",
            "8801                       United Arab Emirates, Jordan       March 9, 2016   \n",
            "8802                                      United States   November 20, 2019   \n",
            "8804                                      United States    November 1, 2019   \n",
            "8805                                      United States    January 11, 2020   \n",
            "8806                                              India       March 2, 2019   \n",
            "\n",
            "      release_year rating   duration  \\\n",
            "7             1993  TV-MA    125 min   \n",
            "8             2021  TV-14  9 Seasons   \n",
            "9             2021  PG-13    104 min   \n",
            "12            2021  TV-MA    127 min   \n",
            "24            1998  TV-14    166 min   \n",
            "...            ...    ...        ...   \n",
            "8801          2015  TV-MA     96 min   \n",
            "8802          2007      R    158 min   \n",
            "8804          2009      R     88 min   \n",
            "8805          2006     PG     88 min   \n",
            "8806          2015  TV-14    111 min   \n",
            "\n",
            "                                             listed_in  \\\n",
            "7     Dramas, Independent Movies, International Movies   \n",
            "8                         British TV Shows, Reality TV   \n",
            "9                                     Comedies, Dramas   \n",
            "12                        Dramas, International Movies   \n",
            "24     Comedies, International Movies, Romantic Movies   \n",
            "...                                                ...   \n",
            "8801           Dramas, International Movies, Thrillers   \n",
            "8802                    Cult Movies, Dramas, Thrillers   \n",
            "8804                           Comedies, Horror Movies   \n",
            "8805                Children & Family Movies, Comedies   \n",
            "8806    Dramas, International Movies, Music & Musicals   \n",
            "\n",
            "                                            description  \n",
            "7     On a photo shoot in Ghana, an American model s...  \n",
            "8     A talented batch of amateur bakers face off in...  \n",
            "9     A woman adjusting to life after a loss contend...  \n",
            "12    After most of her family is murdered in a terr...  \n",
            "24    When the father of the man she loves insists t...  \n",
            "...                                                 ...  \n",
            "8801  Recovering alcoholic Talal wakes up inside a s...  \n",
            "8802  A political cartoonist, a crime reporter and a...  \n",
            "8804  Looking to survive in a world taken over by zo...  \n",
            "8805  Dragged from civilian life, a former superhero...  \n",
            "8806  A scrappy but poor boy worms his way into a ty...  \n",
            "\n",
            "[5332 rows x 12 columns]\n"
          ]
        }
      ]
    },
    {
      "cell_type": "code",
      "source": [
        "print(Drop_df.isnull().sum())"
      ],
      "metadata": {
        "colab": {
          "base_uri": "https://localhost:8080/"
        },
        "id": "ntqLDxhTg0U3",
        "outputId": "fc287b3e-5890-4424-e2eb-5154bbf6eb92"
      },
      "execution_count": 9,
      "outputs": [
        {
          "output_type": "stream",
          "name": "stdout",
          "text": [
            "show_id         0\n",
            "type            0\n",
            "title           0\n",
            "director        0\n",
            "cast            0\n",
            "country         0\n",
            "date_added      0\n",
            "release_year    0\n",
            "rating          0\n",
            "duration        0\n",
            "listed_in       0\n",
            "description     0\n",
            "dtype: int64\n"
          ]
        }
      ]
    },
    {
      "cell_type": "code",
      "source": [
        "Drop_duplicates=Drop_df.drop_duplicates()"
      ],
      "metadata": {
        "id": "l7PBplf4g8F_"
      },
      "execution_count": 10,
      "outputs": []
    },
    {
      "cell_type": "code",
      "source": [
        "print(Drop_duplicates)"
      ],
      "metadata": {
        "colab": {
          "base_uri": "https://localhost:8080/"
        },
        "id": "6RJUnI7BhJlw",
        "outputId": "b90c4ce4-5c7f-405d-e671-1b2bca00d47f"
      },
      "execution_count": 13,
      "outputs": [
        {
          "output_type": "stream",
          "name": "stdout",
          "text": [
            "     show_id     type                          title             director  \\\n",
            "7         s8    Movie                        Sankofa         Haile Gerima   \n",
            "8         s9  TV Show  The Great British Baking Show      Andy Devonshire   \n",
            "9        s10    Movie                   The Starling       Theodore Melfi   \n",
            "12       s13    Movie                   Je Suis Karl  Christian Schwochow   \n",
            "24       s25    Movie                          Jeans           S. Shankar   \n",
            "...      ...      ...                            ...                  ...   \n",
            "8801   s8802    Movie                        Zinzana      Majid Al Ansari   \n",
            "8802   s8803    Movie                         Zodiac        David Fincher   \n",
            "8804   s8805    Movie                     Zombieland      Ruben Fleischer   \n",
            "8805   s8806    Movie                           Zoom         Peter Hewitt   \n",
            "8806   s8807    Movie                         Zubaan          Mozez Singh   \n",
            "\n",
            "                                                   cast  \\\n",
            "7     Kofi Ghanaba, Oyafunmike Ogunlano, Alexandra D...   \n",
            "8     Mel Giedroyc, Sue Perkins, Mary Berry, Paul Ho...   \n",
            "9     Melissa McCarthy, Chris O'Dowd, Kevin Kline, T...   \n",
            "12    Luna Wedler, Jannis Niewöhner, Milan Peschel, ...   \n",
            "24    Prashanth, Aishwarya Rai Bachchan, Sri Lakshmi...   \n",
            "...                                                 ...   \n",
            "8801  Ali Suliman, Saleh Bakri, Yasa, Ali Al-Jabri, ...   \n",
            "8802  Mark Ruffalo, Jake Gyllenhaal, Robert Downey J...   \n",
            "8804  Jesse Eisenberg, Woody Harrelson, Emma Stone, ...   \n",
            "8805  Tim Allen, Courteney Cox, Chevy Chase, Kate Ma...   \n",
            "8806  Vicky Kaushal, Sarah-Jane Dias, Raaghav Chanan...   \n",
            "\n",
            "                                                country          date_added  \\\n",
            "7     United States, Ghana, Burkina Faso, United Kin...  September 24, 2021   \n",
            "8                                        United Kingdom  September 24, 2021   \n",
            "9                                         United States  September 24, 2021   \n",
            "12                              Germany, Czech Republic  September 23, 2021   \n",
            "24                                                India  September 21, 2021   \n",
            "...                                                 ...                 ...   \n",
            "8801                       United Arab Emirates, Jordan       March 9, 2016   \n",
            "8802                                      United States   November 20, 2019   \n",
            "8804                                      United States    November 1, 2019   \n",
            "8805                                      United States    January 11, 2020   \n",
            "8806                                              India       March 2, 2019   \n",
            "\n",
            "      release_year rating   duration  \\\n",
            "7             1993  TV-MA    125 min   \n",
            "8             2021  TV-14  9 Seasons   \n",
            "9             2021  PG-13    104 min   \n",
            "12            2021  TV-MA    127 min   \n",
            "24            1998  TV-14    166 min   \n",
            "...            ...    ...        ...   \n",
            "8801          2015  TV-MA     96 min   \n",
            "8802          2007      R    158 min   \n",
            "8804          2009      R     88 min   \n",
            "8805          2006     PG     88 min   \n",
            "8806          2015  TV-14    111 min   \n",
            "\n",
            "                                             listed_in  \\\n",
            "7     Dramas, Independent Movies, International Movies   \n",
            "8                         British TV Shows, Reality TV   \n",
            "9                                     Comedies, Dramas   \n",
            "12                        Dramas, International Movies   \n",
            "24     Comedies, International Movies, Romantic Movies   \n",
            "...                                                ...   \n",
            "8801           Dramas, International Movies, Thrillers   \n",
            "8802                    Cult Movies, Dramas, Thrillers   \n",
            "8804                           Comedies, Horror Movies   \n",
            "8805                Children & Family Movies, Comedies   \n",
            "8806    Dramas, International Movies, Music & Musicals   \n",
            "\n",
            "                                            description  \n",
            "7     On a photo shoot in Ghana, an American model s...  \n",
            "8     A talented batch of amateur bakers face off in...  \n",
            "9     A woman adjusting to life after a loss contend...  \n",
            "12    After most of her family is murdered in a terr...  \n",
            "24    When the father of the man she loves insists t...  \n",
            "...                                                 ...  \n",
            "8801  Recovering alcoholic Talal wakes up inside a s...  \n",
            "8802  A political cartoonist, a crime reporter and a...  \n",
            "8804  Looking to survive in a world taken over by zo...  \n",
            "8805  Dragged from civilian life, a former superhero...  \n",
            "8806  A scrappy but poor boy worms his way into a ty...  \n",
            "\n",
            "[5332 rows x 12 columns]\n"
          ]
        }
      ]
    },
    {
      "cell_type": "code",
      "source": [
        "print(Drop_duplicates.head())"
      ],
      "metadata": {
        "colab": {
          "base_uri": "https://localhost:8080/"
        },
        "id": "PaS_WsAlhb6B",
        "outputId": "62b2b0a4-f011-4a35-963d-c41ccf89e7bc"
      },
      "execution_count": 14,
      "outputs": [
        {
          "output_type": "stream",
          "name": "stdout",
          "text": [
            "   show_id     type                          title             director  \\\n",
            "7       s8    Movie                        Sankofa         Haile Gerima   \n",
            "8       s9  TV Show  The Great British Baking Show      Andy Devonshire   \n",
            "9      s10    Movie                   The Starling       Theodore Melfi   \n",
            "12     s13    Movie                   Je Suis Karl  Christian Schwochow   \n",
            "24     s25    Movie                          Jeans           S. Shankar   \n",
            "\n",
            "                                                 cast  \\\n",
            "7   Kofi Ghanaba, Oyafunmike Ogunlano, Alexandra D...   \n",
            "8   Mel Giedroyc, Sue Perkins, Mary Berry, Paul Ho...   \n",
            "9   Melissa McCarthy, Chris O'Dowd, Kevin Kline, T...   \n",
            "12  Luna Wedler, Jannis Niewöhner, Milan Peschel, ...   \n",
            "24  Prashanth, Aishwarya Rai Bachchan, Sri Lakshmi...   \n",
            "\n",
            "                                              country          date_added  \\\n",
            "7   United States, Ghana, Burkina Faso, United Kin...  September 24, 2021   \n",
            "8                                      United Kingdom  September 24, 2021   \n",
            "9                                       United States  September 24, 2021   \n",
            "12                            Germany, Czech Republic  September 23, 2021   \n",
            "24                                              India  September 21, 2021   \n",
            "\n",
            "    release_year rating   duration  \\\n",
            "7           1993  TV-MA    125 min   \n",
            "8           2021  TV-14  9 Seasons   \n",
            "9           2021  PG-13    104 min   \n",
            "12          2021  TV-MA    127 min   \n",
            "24          1998  TV-14    166 min   \n",
            "\n",
            "                                           listed_in  \\\n",
            "7   Dramas, Independent Movies, International Movies   \n",
            "8                       British TV Shows, Reality TV   \n",
            "9                                   Comedies, Dramas   \n",
            "12                      Dramas, International Movies   \n",
            "24   Comedies, International Movies, Romantic Movies   \n",
            "\n",
            "                                          description  \n",
            "7   On a photo shoot in Ghana, an American model s...  \n",
            "8   A talented batch of amateur bakers face off in...  \n",
            "9   A woman adjusting to life after a loss contend...  \n",
            "12  After most of her family is murdered in a terr...  \n",
            "24  When the father of the man she loves insists t...  \n"
          ]
        }
      ]
    },
    {
      "cell_type": "code",
      "source": [
        "df1=Drop_duplicates"
      ],
      "metadata": {
        "id": "TAYgPxX1iudg"
      },
      "execution_count": 15,
      "outputs": []
    },
    {
      "cell_type": "code",
      "source": [
        "df1['country']=df1['country'].str.title()"
      ],
      "metadata": {
        "id": "VIeXi-Dfhm-P"
      },
      "execution_count": 16,
      "outputs": []
    },
    {
      "cell_type": "code",
      "source": [
        "print(df1.head)"
      ],
      "metadata": {
        "colab": {
          "base_uri": "https://localhost:8080/"
        },
        "id": "JqFUI1z6jHgB",
        "outputId": "dfce23e6-3da8-4ede-d907-dc66e160e9d2"
      },
      "execution_count": 17,
      "outputs": [
        {
          "output_type": "stream",
          "name": "stdout",
          "text": [
            "<bound method NDFrame.head of      show_id     type                          title             director  \\\n",
            "7         s8    Movie                        Sankofa         Haile Gerima   \n",
            "8         s9  TV Show  The Great British Baking Show      Andy Devonshire   \n",
            "9        s10    Movie                   The Starling       Theodore Melfi   \n",
            "12       s13    Movie                   Je Suis Karl  Christian Schwochow   \n",
            "24       s25    Movie                          Jeans           S. Shankar   \n",
            "...      ...      ...                            ...                  ...   \n",
            "8801   s8802    Movie                        Zinzana      Majid Al Ansari   \n",
            "8802   s8803    Movie                         Zodiac        David Fincher   \n",
            "8804   s8805    Movie                     Zombieland      Ruben Fleischer   \n",
            "8805   s8806    Movie                           Zoom         Peter Hewitt   \n",
            "8806   s8807    Movie                         Zubaan          Mozez Singh   \n",
            "\n",
            "                                                   cast  \\\n",
            "7     Kofi Ghanaba, Oyafunmike Ogunlano, Alexandra D...   \n",
            "8     Mel Giedroyc, Sue Perkins, Mary Berry, Paul Ho...   \n",
            "9     Melissa McCarthy, Chris O'Dowd, Kevin Kline, T...   \n",
            "12    Luna Wedler, Jannis Niewöhner, Milan Peschel, ...   \n",
            "24    Prashanth, Aishwarya Rai Bachchan, Sri Lakshmi...   \n",
            "...                                                 ...   \n",
            "8801  Ali Suliman, Saleh Bakri, Yasa, Ali Al-Jabri, ...   \n",
            "8802  Mark Ruffalo, Jake Gyllenhaal, Robert Downey J...   \n",
            "8804  Jesse Eisenberg, Woody Harrelson, Emma Stone, ...   \n",
            "8805  Tim Allen, Courteney Cox, Chevy Chase, Kate Ma...   \n",
            "8806  Vicky Kaushal, Sarah-Jane Dias, Raaghav Chanan...   \n",
            "\n",
            "                                                country          date_added  \\\n",
            "7     United States, Ghana, Burkina Faso, United Kin...  September 24, 2021   \n",
            "8                                        United Kingdom  September 24, 2021   \n",
            "9                                         United States  September 24, 2021   \n",
            "12                              Germany, Czech Republic  September 23, 2021   \n",
            "24                                                India  September 21, 2021   \n",
            "...                                                 ...                 ...   \n",
            "8801                       United Arab Emirates, Jordan       March 9, 2016   \n",
            "8802                                      United States   November 20, 2019   \n",
            "8804                                      United States    November 1, 2019   \n",
            "8805                                      United States    January 11, 2020   \n",
            "8806                                              India       March 2, 2019   \n",
            "\n",
            "      release_year rating   duration  \\\n",
            "7             1993  TV-MA    125 min   \n",
            "8             2021  TV-14  9 Seasons   \n",
            "9             2021  PG-13    104 min   \n",
            "12            2021  TV-MA    127 min   \n",
            "24            1998  TV-14    166 min   \n",
            "...            ...    ...        ...   \n",
            "8801          2015  TV-MA     96 min   \n",
            "8802          2007      R    158 min   \n",
            "8804          2009      R     88 min   \n",
            "8805          2006     PG     88 min   \n",
            "8806          2015  TV-14    111 min   \n",
            "\n",
            "                                             listed_in  \\\n",
            "7     Dramas, Independent Movies, International Movies   \n",
            "8                         British TV Shows, Reality TV   \n",
            "9                                     Comedies, Dramas   \n",
            "12                        Dramas, International Movies   \n",
            "24     Comedies, International Movies, Romantic Movies   \n",
            "...                                                ...   \n",
            "8801           Dramas, International Movies, Thrillers   \n",
            "8802                    Cult Movies, Dramas, Thrillers   \n",
            "8804                           Comedies, Horror Movies   \n",
            "8805                Children & Family Movies, Comedies   \n",
            "8806    Dramas, International Movies, Music & Musicals   \n",
            "\n",
            "                                            description  \n",
            "7     On a photo shoot in Ghana, an American model s...  \n",
            "8     A talented batch of amateur bakers face off in...  \n",
            "9     A woman adjusting to life after a loss contend...  \n",
            "12    After most of her family is murdered in a terr...  \n",
            "24    When the father of the man she loves insists t...  \n",
            "...                                                 ...  \n",
            "8801  Recovering alcoholic Talal wakes up inside a s...  \n",
            "8802  A political cartoonist, a crime reporter and a...  \n",
            "8804  Looking to survive in a world taken over by zo...  \n",
            "8805  Dragged from civilian life, a former superhero...  \n",
            "8806  A scrappy but poor boy worms his way into a ty...  \n",
            "\n",
            "[5332 rows x 12 columns]>\n"
          ]
        }
      ]
    },
    {
      "cell_type": "code",
      "source": [
        "from datetime import datetime"
      ],
      "metadata": {
        "id": "6kjErOdSlGqR"
      },
      "execution_count": 20,
      "outputs": []
    },
    {
      "cell_type": "code",
      "source": [
        "formats = [\"%B %d, %Y\", \"%Y-%m-%d\", \"%d-%m-%Y\"]\n",
        "\n",
        "def parse_date(date_str):\n",
        "    if pd.isna(date_str):\n",
        "        return None\n",
        "    for fmt in formats:\n",
        "        try:\n",
        "            return datetime.strptime(date_str, fmt)\n",
        "        except:\n",
        "            continue\n",
        "    return None\n",
        "\n",
        "\n",
        "df1[\"date_added\"] = df1[\"date_added\"].apply(parse_date)\n",
        "\n",
        "df1[\"date_added\"] = df1[\"date_added\"].dt.strftime(\"%d-%m-%Y\")\n"
      ],
      "metadata": {
        "id": "WkrT4dtNlADb"
      },
      "execution_count": 22,
      "outputs": []
    },
    {
      "cell_type": "code",
      "source": [
        "print(df1.head())"
      ],
      "metadata": {
        "colab": {
          "base_uri": "https://localhost:8080/"
        },
        "id": "KtaVCA44lrUc",
        "outputId": "f1135b97-f8d3-4362-e2f4-8bdf2a2c5ff7"
      },
      "execution_count": 23,
      "outputs": [
        {
          "output_type": "stream",
          "name": "stdout",
          "text": [
            "   show_id     type                          title             director  \\\n",
            "7       s8    Movie                        Sankofa         Haile Gerima   \n",
            "8       s9  TV Show  The Great British Baking Show      Andy Devonshire   \n",
            "9      s10    Movie                   The Starling       Theodore Melfi   \n",
            "12     s13    Movie                   Je Suis Karl  Christian Schwochow   \n",
            "24     s25    Movie                          Jeans           S. Shankar   \n",
            "\n",
            "                                                 cast  \\\n",
            "7   Kofi Ghanaba, Oyafunmike Ogunlano, Alexandra D...   \n",
            "8   Mel Giedroyc, Sue Perkins, Mary Berry, Paul Ho...   \n",
            "9   Melissa McCarthy, Chris O'Dowd, Kevin Kline, T...   \n",
            "12  Luna Wedler, Jannis Niewöhner, Milan Peschel, ...   \n",
            "24  Prashanth, Aishwarya Rai Bachchan, Sri Lakshmi...   \n",
            "\n",
            "                                              country  date_added  \\\n",
            "7   United States, Ghana, Burkina Faso, United Kin...  24-09-2021   \n",
            "8                                      United Kingdom  24-09-2021   \n",
            "9                                       United States  24-09-2021   \n",
            "12                            Germany, Czech Republic  23-09-2021   \n",
            "24                                              India  21-09-2021   \n",
            "\n",
            "    release_year rating   duration  \\\n",
            "7           1993  TV-MA    125 min   \n",
            "8           2021  TV-14  9 Seasons   \n",
            "9           2021  PG-13    104 min   \n",
            "12          2021  TV-MA    127 min   \n",
            "24          1998  TV-14    166 min   \n",
            "\n",
            "                                           listed_in  \\\n",
            "7   Dramas, Independent Movies, International Movies   \n",
            "8                       British TV Shows, Reality TV   \n",
            "9                                   Comedies, Dramas   \n",
            "12                      Dramas, International Movies   \n",
            "24   Comedies, International Movies, Romantic Movies   \n",
            "\n",
            "                                          description  \n",
            "7   On a photo shoot in Ghana, an American model s...  \n",
            "8   A talented batch of amateur bakers face off in...  \n",
            "9   A woman adjusting to life after a loss contend...  \n",
            "12  After most of her family is murdered in a terr...  \n",
            "24  When the father of the man she loves insists t...  \n"
          ]
        }
      ]
    },
    {
      "cell_type": "code",
      "source": [
        "df1.columns = df1.columns.str.strip().str.lower().str.replace(\" \", \"_\")\n"
      ],
      "metadata": {
        "id": "qTSQ14m5mN09"
      },
      "execution_count": 24,
      "outputs": []
    },
    {
      "cell_type": "code",
      "source": [
        "print(\"Cleaned Columns:\", df1.columns.tolist())"
      ],
      "metadata": {
        "colab": {
          "base_uri": "https://localhost:8080/"
        },
        "id": "LBJherUjmV8l",
        "outputId": "fd7f5fd4-9253-4d27-de83-6574ee0743f3"
      },
      "execution_count": 25,
      "outputs": [
        {
          "output_type": "stream",
          "name": "stdout",
          "text": [
            "Cleaned Columns: ['show_id', 'type', 'title', 'director', 'cast', 'country', 'date_added', 'release_year', 'rating', 'duration', 'listed_in', 'description']\n"
          ]
        }
      ]
    },
    {
      "cell_type": "code",
      "source": [
        "print(df1.dtypes)"
      ],
      "metadata": {
        "colab": {
          "base_uri": "https://localhost:8080/"
        },
        "id": "yKM9RLJUmb88",
        "outputId": "ad6b6654-356f-4e7c-b911-0ce94339c5a7"
      },
      "execution_count": 26,
      "outputs": [
        {
          "output_type": "stream",
          "name": "stdout",
          "text": [
            "show_id         object\n",
            "type            object\n",
            "title           object\n",
            "director        object\n",
            "cast            object\n",
            "country         object\n",
            "date_added      object\n",
            "release_year     int64\n",
            "rating          object\n",
            "duration        object\n",
            "listed_in       object\n",
            "description     object\n",
            "dtype: object\n"
          ]
        }
      ]
    },
    {
      "cell_type": "code",
      "source": [
        "df1[\"date_added\"] = pd.to_datetime(df1[\"date_added\"])\n"
      ],
      "metadata": {
        "colab": {
          "base_uri": "https://localhost:8080/"
        },
        "id": "2yGiwabanSGY",
        "outputId": "4b598ca9-d1be-41e6-de07-dc9061a95f18"
      },
      "execution_count": 27,
      "outputs": [
        {
          "output_type": "stream",
          "name": "stderr",
          "text": [
            "/tmp/ipython-input-2824328109.py:1: UserWarning: Parsing dates in %d-%m-%Y format when dayfirst=False (the default) was specified. Pass `dayfirst=True` or specify a format to silence this warning.\n",
            "  df1[\"date_added\"] = pd.to_datetime(df1[\"date_added\"])\n"
          ]
        }
      ]
    },
    {
      "cell_type": "code",
      "source": [
        "print(df1.dtypes)"
      ],
      "metadata": {
        "colab": {
          "base_uri": "https://localhost:8080/"
        },
        "id": "FbdcQd5Unc_1",
        "outputId": "426e49d9-8982-4919-e2b9-072b180814bd"
      },
      "execution_count": 28,
      "outputs": [
        {
          "output_type": "stream",
          "name": "stdout",
          "text": [
            "show_id                 object\n",
            "type                    object\n",
            "title                   object\n",
            "director                object\n",
            "cast                    object\n",
            "country                 object\n",
            "date_added      datetime64[ns]\n",
            "release_year             int64\n",
            "rating                  object\n",
            "duration                object\n",
            "listed_in               object\n",
            "description             object\n",
            "dtype: object\n"
          ]
        }
      ]
    },
    {
      "cell_type": "code",
      "source": [
        "print(df1.head())"
      ],
      "metadata": {
        "colab": {
          "base_uri": "https://localhost:8080/"
        },
        "id": "4LC2Uf2-nudy",
        "outputId": "7aafab40-e277-41da-b4a7-cd0ed32d7104"
      },
      "execution_count": 30,
      "outputs": [
        {
          "output_type": "stream",
          "name": "stdout",
          "text": [
            "   show_id     type                          title             director  \\\n",
            "7       s8    Movie                        Sankofa         Haile Gerima   \n",
            "8       s9  TV Show  The Great British Baking Show      Andy Devonshire   \n",
            "9      s10    Movie                   The Starling       Theodore Melfi   \n",
            "12     s13    Movie                   Je Suis Karl  Christian Schwochow   \n",
            "24     s25    Movie                          Jeans           S. Shankar   \n",
            "\n",
            "                                                 cast  \\\n",
            "7   Kofi Ghanaba, Oyafunmike Ogunlano, Alexandra D...   \n",
            "8   Mel Giedroyc, Sue Perkins, Mary Berry, Paul Ho...   \n",
            "9   Melissa McCarthy, Chris O'Dowd, Kevin Kline, T...   \n",
            "12  Luna Wedler, Jannis Niewöhner, Milan Peschel, ...   \n",
            "24  Prashanth, Aishwarya Rai Bachchan, Sri Lakshmi...   \n",
            "\n",
            "                                              country date_added  \\\n",
            "7   United States, Ghana, Burkina Faso, United Kin... 2021-09-24   \n",
            "8                                      United Kingdom 2021-09-24   \n",
            "9                                       United States 2021-09-24   \n",
            "12                            Germany, Czech Republic 2021-09-23   \n",
            "24                                              India 2021-09-21   \n",
            "\n",
            "    release_year rating   duration  \\\n",
            "7           1993  TV-MA    125 min   \n",
            "8           2021  TV-14  9 Seasons   \n",
            "9           2021  PG-13    104 min   \n",
            "12          2021  TV-MA    127 min   \n",
            "24          1998  TV-14    166 min   \n",
            "\n",
            "                                           listed_in  \\\n",
            "7   Dramas, Independent Movies, International Movies   \n",
            "8                       British TV Shows, Reality TV   \n",
            "9                                   Comedies, Dramas   \n",
            "12                      Dramas, International Movies   \n",
            "24   Comedies, International Movies, Romantic Movies   \n",
            "\n",
            "                                          description  \n",
            "7   On a photo shoot in Ghana, an American model s...  \n",
            "8   A talented batch of amateur bakers face off in...  \n",
            "9   A woman adjusting to life after a loss contend...  \n",
            "12  After most of her family is murdered in a terr...  \n",
            "24  When the father of the man she loves insists t...  \n",
            "   show_id     type                          title             director  \\\n",
            "7       s8    Movie                        Sankofa         Haile Gerima   \n",
            "8       s9  TV Show  The Great British Baking Show      Andy Devonshire   \n",
            "9      s10    Movie                   The Starling       Theodore Melfi   \n",
            "12     s13    Movie                   Je Suis Karl  Christian Schwochow   \n",
            "24     s25    Movie                          Jeans           S. Shankar   \n",
            "\n",
            "                                                 cast  \\\n",
            "7   Kofi Ghanaba, Oyafunmike Ogunlano, Alexandra D...   \n",
            "8   Mel Giedroyc, Sue Perkins, Mary Berry, Paul Ho...   \n",
            "9   Melissa McCarthy, Chris O'Dowd, Kevin Kline, T...   \n",
            "12  Luna Wedler, Jannis Niewöhner, Milan Peschel, ...   \n",
            "24  Prashanth, Aishwarya Rai Bachchan, Sri Lakshmi...   \n",
            "\n",
            "                                              country date_added  \\\n",
            "7   United States, Ghana, Burkina Faso, United Kin... 2021-09-24   \n",
            "8                                      United Kingdom 2021-09-24   \n",
            "9                                       United States 2021-09-24   \n",
            "12                            Germany, Czech Republic 2021-09-23   \n",
            "24                                              India 2021-09-21   \n",
            "\n",
            "    release_year rating   duration  \\\n",
            "7           1993  TV-MA    125 min   \n",
            "8           2021  TV-14  9 Seasons   \n",
            "9           2021  PG-13    104 min   \n",
            "12          2021  TV-MA    127 min   \n",
            "24          1998  TV-14    166 min   \n",
            "\n",
            "                                           listed_in  \\\n",
            "7   Dramas, Independent Movies, International Movies   \n",
            "8                       British TV Shows, Reality TV   \n",
            "9                                   Comedies, Dramas   \n",
            "12                      Dramas, International Movies   \n",
            "24   Comedies, International Movies, Romantic Movies   \n",
            "\n",
            "                                          description  \n",
            "7   On a photo shoot in Ghana, an American model s...  \n",
            "8   A talented batch of amateur bakers face off in...  \n",
            "9   A woman adjusting to life after a loss contend...  \n",
            "12  After most of her family is murdered in a terr...  \n",
            "24  When the father of the man she loves insists t...  \n"
          ]
        }
      ]
    }
  ]
}